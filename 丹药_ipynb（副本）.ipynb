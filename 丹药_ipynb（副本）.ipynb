{
  "nbformat": 4,
  "nbformat_minor": 0,
  "metadata": {
    "colab": {
      "name": "丹药.ipynb（副本）",
      "provenance": [],
      "collapsed_sections": [],
      "toc_visible": true,
      "include_colab_link": true
    },
    "kernelspec": {
      "name": "python3",
      "display_name": "Python 3"
    },
    "accelerator": "GPU"
  },
  "cells": [
    {
      "cell_type": "markdown",
      "metadata": {
        "id": "view-in-github",
        "colab_type": "text"
      },
      "source": [
        "<a href=\"https://colab.research.google.com/github/houdreamer/DeepFaceLab_Colab/blob/master/%E4%B8%B9%E8%8D%AF_ipynb%EF%BC%88%E5%89%AF%E6%9C%AC%EF%BC%89.ipynb\" target=\"_parent\"><img src=\"https://colab.research.google.com/assets/colab-badge.svg\" alt=\"Open In Colab\"/></a>"
      ]
    },
    {
      "cell_type": "markdown",
      "metadata": {
        "id": "KWQMLYlFrTXz",
        "colab_type": "text"
      },
      "source": [
        "# 简介\n",
        "\n",
        "无需多说，一路运行即可！\n",
        "\n",
        "此脚本由**换脸王子**创建，仅用于学习，请勿商用，请勿用于非法用途，否者后果自负。"
      ]
    },
    {
      "cell_type": "code",
      "metadata": {
        "id": "1Q9B2QFE3q6U",
        "colab_type": "code",
        "outputId": "5fc81c7c-5807-4119-91c7-03b6f01c2fd9",
        "colab": {
          "base_uri": "https://localhost:8080/",
          "height": 306
        }
      },
      "source": [
        "# 查看设备，是K80还是T4,如果是K80...！\n",
        "! /opt/bin/nvidia-smi\n"
      ],
      "execution_count": 0,
      "outputs": [
        {
          "output_type": "stream",
          "text": [
            "Thu Mar 19 18:40:10 2020       \n",
            "+-----------------------------------------------------------------------------+\n",
            "| NVIDIA-SMI 418.67       Driver Version: 418.67       CUDA Version: 10.1     |\n",
            "|-------------------------------+----------------------+----------------------+\n",
            "| GPU  Name        Persistence-M| Bus-Id        Disp.A | Volatile Uncorr. ECC |\n",
            "| Fan  Temp  Perf  Pwr:Usage/Cap|         Memory-Usage | GPU-Util  Compute M. |\n",
            "|===============================+======================+======================|\n",
            "|   0  Tesla P100-PCIE...  Off  | 00000000:00:04.0 Off |                    0 |\n",
            "| N/A   31C    P0    26W / 250W |      0MiB / 16280MiB |      0%      Default |\n",
            "+-------------------------------+----------------------+----------------------+\n",
            "                                                                               \n",
            "+-----------------------------------------------------------------------------+\n",
            "| Processes:                                                       GPU Memory |\n",
            "|  GPU       PID   Type   Process name                             Usage      |\n",
            "|=============================================================================|\n",
            "|  No running processes found                                                 |\n",
            "+-----------------------------------------------------------------------------+\n"
          ],
          "name": "stdout"
        }
      ]
    },
    {
      "cell_type": "markdown",
      "metadata": {
        "id": "OHVOYfuK9HXl",
        "colab_type": "text"
      },
      "source": [
        "# 第一步 准备好workspace\n",
        "1.这一部你可以选着两种方式\n",
        "1. 使用默认的workspace，你无需自己上传，仅用于熟悉操作。\n",
        "2. 通过Google Drive （谷歌云盘）上传自己的workspace到指定目录。\n",
        "\n",
        "\n",
        "注意：谷歌网址现在都需要“科学上网”才能访问。"
      ]
    },
    {
      "cell_type": "code",
      "metadata": {
        "id": "FdLZKknU9cjF",
        "colab_type": "code",
        "cellView": "both",
        "outputId": "bc69c241-b0d4-4bae-ab96-3a4678867336",
        "colab": {
          "base_uri": "https://localhost:8080/",
          "height": 1000
        }
      },
      "source": [
        "#@title #挂载谷歌云盘\n",
        "\n",
        "#点击链接授权，复制授权码，填入框框，然后回车。\n",
        "\n",
        "\n",
        "from google.colab import drive\n",
        "\n",
        "drive.mount('/content/drive', force_remount=True)\n",
        "%cd /content/drive/My Drive/DeepFaceLab/DeepFaceLab\n",
        "!pip install -r requirements-colab.txt\n",
        "!pip install --upgrade scikit-image\n"
      ],
      "execution_count": 0,
      "outputs": [
        {
          "output_type": "stream",
          "text": [
            "Go to this URL in a browser: https://accounts.google.com/o/oauth2/auth?client_id=947318989803-6bn6qk8qdgf4n4g3pfee6491hc0brc4i.apps.googleusercontent.com&redirect_uri=urn%3aietf%3awg%3aoauth%3a2.0%3aoob&response_type=code&scope=email%20https%3a%2f%2fwww.googleapis.com%2fauth%2fdocs.test%20https%3a%2f%2fwww.googleapis.com%2fauth%2fdrive%20https%3a%2f%2fwww.googleapis.com%2fauth%2fdrive.photos.readonly%20https%3a%2f%2fwww.googleapis.com%2fauth%2fpeopleapi.readonly\n",
            "\n",
            "Enter your authorization code:\n",
            "··········\n",
            "Mounted at /content/drive\n",
            "/content/drive/My Drive/DeepFaceLab/DeepFaceLab\n",
            "Collecting git+https://www.github.com/keras-team/keras-contrib.git (from -r requirements-colab.txt (line 10))\n",
            "  Cloning https://www.github.com/keras-team/keras-contrib.git to /tmp/pip-req-build-ypz858h6\n",
            "  Running command git clone -q https://www.github.com/keras-team/keras-contrib.git /tmp/pip-req-build-ypz858h6\n",
            "Collecting numpy==1.17.0\n",
            "\u001b[?25l  Downloading https://files.pythonhosted.org/packages/19/b9/bda9781f0a74b90ebd2e046fde1196182900bd4a8e1ea503d3ffebc50e7c/numpy-1.17.0-cp36-cp36m-manylinux1_x86_64.whl (20.4MB)\n",
            "\u001b[K     |████████████████████████████████| 20.4MB 156kB/s \n",
            "\u001b[?25hCollecting h5py==2.9.0\n",
            "\u001b[?25l  Downloading https://files.pythonhosted.org/packages/30/99/d7d4fbf2d02bb30fb76179911a250074b55b852d34e98dd452a9f394ac06/h5py-2.9.0-cp36-cp36m-manylinux1_x86_64.whl (2.8MB)\n",
            "\u001b[K     |████████████████████████████████| 2.8MB 56.6MB/s \n",
            "\u001b[?25hCollecting Keras==2.2.4\n",
            "\u001b[?25l  Downloading https://files.pythonhosted.org/packages/5e/10/aa32dad071ce52b5502266b5c659451cfd6ffcbf14e6c8c4f16c0ff5aaab/Keras-2.2.4-py2.py3-none-any.whl (312kB)\n",
            "\u001b[K     |████████████████████████████████| 317kB 60.6MB/s \n",
            "\u001b[?25hCollecting opencv-python==4.1.0.25\n",
            "\u001b[?25l  Downloading https://files.pythonhosted.org/packages/7b/d2/a2dbf83d4553ca6b3701d91d75e42fe50aea97acdc00652dca515749fb5d/opencv_python-4.1.0.25-cp36-cp36m-manylinux1_x86_64.whl (26.6MB)\n",
            "\u001b[K     |████████████████████████████████| 26.6MB 112kB/s \n",
            "\u001b[?25hCollecting tensorflow-gpu==1.13.1\n",
            "\u001b[?25l  Downloading https://files.pythonhosted.org/packages/7b/b1/0ad4ae02e17ddd62109cd54c291e311c4b5fd09b4d0678d3d6ce4159b0f0/tensorflow_gpu-1.13.1-cp36-cp36m-manylinux1_x86_64.whl (345.2MB)\n",
            "\u001b[K     |████████████████████████████████| 345.2MB 45kB/s \n",
            "\u001b[?25hCollecting plaidml-keras==0.5.0\n",
            "  Downloading https://files.pythonhosted.org/packages/17/34/4102261e3d8867c31bae9f4def5d7e700fc25fff232fa1780040e8ed79b0/plaidml_keras-0.5.0-py2.py3-none-any.whl\n",
            "Requirement already satisfied: scikit-image in /usr/local/lib/python3.6/dist-packages (from -r requirements-colab.txt (line 7)) (0.16.2)\n",
            "Requirement already satisfied: tqdm in /usr/local/lib/python3.6/dist-packages (from -r requirements-colab.txt (line 8)) (4.38.0)\n",
            "Collecting ffmpeg-python==0.1.17\n",
            "  Downloading https://files.pythonhosted.org/packages/3d/10/330cbc8e63d072d40413f4d470444a6a1e8c8c6a80b2a4ac302d1252ca1b/ffmpeg_python-0.1.17-py3-none-any.whl\n",
            "Requirement already satisfied: six in /usr/local/lib/python3.6/dist-packages (from h5py==2.9.0->-r requirements-colab.txt (line 2)) (1.12.0)\n",
            "Requirement already satisfied: keras-applications>=1.0.6 in /usr/local/lib/python3.6/dist-packages (from Keras==2.2.4->-r requirements-colab.txt (line 3)) (1.0.8)\n",
            "Requirement already satisfied: keras-preprocessing>=1.0.5 in /usr/local/lib/python3.6/dist-packages (from Keras==2.2.4->-r requirements-colab.txt (line 3)) (1.1.0)\n",
            "Requirement already satisfied: scipy>=0.14 in /usr/local/lib/python3.6/dist-packages (from Keras==2.2.4->-r requirements-colab.txt (line 3)) (1.4.1)\n",
            "Requirement already satisfied: pyyaml in /usr/local/lib/python3.6/dist-packages (from Keras==2.2.4->-r requirements-colab.txt (line 3)) (3.13)\n",
            "Requirement already satisfied: astor>=0.6.0 in /usr/local/lib/python3.6/dist-packages (from tensorflow-gpu==1.13.1->-r requirements-colab.txt (line 5)) (0.8.1)\n",
            "Collecting tensorflow-estimator<1.14.0rc0,>=1.13.0\n",
            "\u001b[?25l  Downloading https://files.pythonhosted.org/packages/bb/48/13f49fc3fa0fdf916aa1419013bb8f2ad09674c275b4046d5ee669a46873/tensorflow_estimator-1.13.0-py2.py3-none-any.whl (367kB)\n",
            "\u001b[K     |████████████████████████████████| 368kB 54.3MB/s \n",
            "\u001b[?25hCollecting tensorboard<1.14.0,>=1.13.0\n",
            "\u001b[?25l  Downloading https://files.pythonhosted.org/packages/0f/39/bdd75b08a6fba41f098b6cb091b9e8c7a80e1b4d679a581a0ccd17b10373/tensorboard-1.13.1-py3-none-any.whl (3.2MB)\n",
            "\u001b[K     |████████████████████████████████| 3.2MB 59.3MB/s \n",
            "\u001b[?25hRequirement already satisfied: grpcio>=1.8.6 in /usr/local/lib/python3.6/dist-packages (from tensorflow-gpu==1.13.1->-r requirements-colab.txt (line 5)) (1.24.3)\n",
            "Requirement already satisfied: gast>=0.2.0 in /usr/local/lib/python3.6/dist-packages (from tensorflow-gpu==1.13.1->-r requirements-colab.txt (line 5)) (0.2.2)\n",
            "Requirement already satisfied: wheel>=0.26 in /usr/local/lib/python3.6/dist-packages (from tensorflow-gpu==1.13.1->-r requirements-colab.txt (line 5)) (0.34.2)\n",
            "Requirement already satisfied: protobuf>=3.6.1 in /usr/local/lib/python3.6/dist-packages (from tensorflow-gpu==1.13.1->-r requirements-colab.txt (line 5)) (3.10.0)\n",
            "Requirement already satisfied: absl-py>=0.1.6 in /usr/local/lib/python3.6/dist-packages (from tensorflow-gpu==1.13.1->-r requirements-colab.txt (line 5)) (0.9.0)\n",
            "Requirement already satisfied: termcolor>=1.1.0 in /usr/local/lib/python3.6/dist-packages (from tensorflow-gpu==1.13.1->-r requirements-colab.txt (line 5)) (1.1.0)\n",
            "Collecting plaidml\n",
            "\u001b[?25l  Downloading https://files.pythonhosted.org/packages/0d/0a/a190acece24f69b38ce1d07ccfc6ccb3336cbf7e81a70d96c37f193eb30a/plaidml-0.7.0-py2.py3-none-manylinux1_x86_64.whl (22.0MB)\n",
            "\u001b[K     |████████████████████████████████| 22.0MB 136kB/s \n",
            "\u001b[?25hRequirement already satisfied: networkx>=2.0 in /usr/local/lib/python3.6/dist-packages (from scikit-image->-r requirements-colab.txt (line 7)) (2.4)\n",
            "Requirement already satisfied: pillow>=4.3.0 in /usr/local/lib/python3.6/dist-packages (from scikit-image->-r requirements-colab.txt (line 7)) (7.0.0)\n",
            "Requirement already satisfied: matplotlib!=3.0.0,>=2.0.0 in /usr/local/lib/python3.6/dist-packages (from scikit-image->-r requirements-colab.txt (line 7)) (3.2.0)\n",
            "Requirement already satisfied: imageio>=2.3.0 in /usr/local/lib/python3.6/dist-packages (from scikit-image->-r requirements-colab.txt (line 7)) (2.4.1)\n",
            "Requirement already satisfied: PyWavelets>=0.4.0 in /usr/local/lib/python3.6/dist-packages (from scikit-image->-r requirements-colab.txt (line 7)) (1.1.1)\n",
            "Requirement already satisfied: future in /usr/local/lib/python3.6/dist-packages (from ffmpeg-python==0.1.17->-r requirements-colab.txt (line 9)) (0.16.0)\n",
            "Collecting mock>=2.0.0\n",
            "  Downloading https://files.pythonhosted.org/packages/cd/74/d72daf8dff5b6566db857cfd088907bb0355f5dd2914c4b3ef065c790735/mock-4.0.2-py3-none-any.whl\n",
            "Requirement already satisfied: markdown>=2.6.8 in /usr/local/lib/python3.6/dist-packages (from tensorboard<1.14.0,>=1.13.0->tensorflow-gpu==1.13.1->-r requirements-colab.txt (line 5)) (3.2.1)\n",
            "Requirement already satisfied: werkzeug>=0.11.15 in /usr/local/lib/python3.6/dist-packages (from tensorboard<1.14.0,>=1.13.0->tensorflow-gpu==1.13.1->-r requirements-colab.txt (line 5)) (1.0.0)\n",
            "Requirement already satisfied: setuptools in /usr/local/lib/python3.6/dist-packages (from protobuf>=3.6.1->tensorflow-gpu==1.13.1->-r requirements-colab.txt (line 5)) (46.0.0)\n",
            "Collecting enum34>=1.1.6\n",
            "  Downloading https://files.pythonhosted.org/packages/63/f6/ccb1c83687756aeabbf3ca0f213508fcfb03883ff200d201b3a4c60cedcc/enum34-1.1.10-py3-none-any.whl\n",
            "Requirement already satisfied: cffi in /usr/local/lib/python3.6/dist-packages (from plaidml->plaidml-keras==0.5.0->-r requirements-colab.txt (line 6)) (1.14.0)\n",
            "Requirement already satisfied: decorator>=4.3.0 in /usr/local/lib/python3.6/dist-packages (from networkx>=2.0->scikit-image->-r requirements-colab.txt (line 7)) (4.4.2)\n",
            "Requirement already satisfied: python-dateutil>=2.1 in /usr/local/lib/python3.6/dist-packages (from matplotlib!=3.0.0,>=2.0.0->scikit-image->-r requirements-colab.txt (line 7)) (2.8.1)\n",
            "Requirement already satisfied: kiwisolver>=1.0.1 in /usr/local/lib/python3.6/dist-packages (from matplotlib!=3.0.0,>=2.0.0->scikit-image->-r requirements-colab.txt (line 7)) (1.1.0)\n",
            "Requirement already satisfied: pyparsing!=2.0.4,!=2.1.2,!=2.1.6,>=2.0.1 in /usr/local/lib/python3.6/dist-packages (from matplotlib!=3.0.0,>=2.0.0->scikit-image->-r requirements-colab.txt (line 7)) (2.4.6)\n",
            "Requirement already satisfied: cycler>=0.10 in /usr/local/lib/python3.6/dist-packages (from matplotlib!=3.0.0,>=2.0.0->scikit-image->-r requirements-colab.txt (line 7)) (0.10.0)\n",
            "Requirement already satisfied: pycparser in /usr/local/lib/python3.6/dist-packages (from cffi->plaidml->plaidml-keras==0.5.0->-r requirements-colab.txt (line 6)) (2.20)\n",
            "Building wheels for collected packages: keras-contrib\n",
            "  Building wheel for keras-contrib (setup.py) ... \u001b[?25l\u001b[?25hdone\n",
            "  Created wheel for keras-contrib: filename=keras_contrib-2.0.8-cp36-none-any.whl size=101064 sha256=c9ace3085548d1fd07921245469d7efd2a3d01e77959d3a22c15e181b6e77541\n",
            "  Stored in directory: /tmp/pip-ephem-wheel-cache-f6wcmzww/wheels/11/27/c8/4ed56de7b55f4f61244e2dc6ef3cdbaff2692527a2ce6502ba\n",
            "Successfully built keras-contrib\n",
            "\u001b[31mERROR: tensorflow 1.15.0 has requirement tensorboard<1.16.0,>=1.15.0, but you'll have tensorboard 1.13.1 which is incompatible.\u001b[0m\n",
            "\u001b[31mERROR: tensorflow 1.15.0 has requirement tensorflow-estimator==1.15.1, but you'll have tensorflow-estimator 1.13.0 which is incompatible.\u001b[0m\n",
            "\u001b[31mERROR: tensorflow-federated 0.12.0 has requirement tensorflow~=2.1.0, but you'll have tensorflow 1.15.0 which is incompatible.\u001b[0m\n",
            "\u001b[31mERROR: tensorflow-federated 0.12.0 has requirement tensorflow-addons~=0.7.0, but you'll have tensorflow-addons 0.8.3 which is incompatible.\u001b[0m\n",
            "\u001b[31mERROR: datascience 0.10.6 has requirement folium==0.2.1, but you'll have folium 0.8.3 which is incompatible.\u001b[0m\n",
            "\u001b[31mERROR: albumentations 0.1.12 has requirement imgaug<0.2.7,>=0.2.5, but you'll have imgaug 0.2.9 which is incompatible.\u001b[0m\n",
            "Installing collected packages: numpy, h5py, Keras, opencv-python, mock, tensorflow-estimator, tensorboard, tensorflow-gpu, enum34, plaidml, plaidml-keras, ffmpeg-python, keras-contrib\n",
            "  Found existing installation: numpy 1.18.2\n",
            "    Uninstalling numpy-1.18.2:\n",
            "      Successfully uninstalled numpy-1.18.2\n",
            "  Found existing installation: h5py 2.8.0\n",
            "    Uninstalling h5py-2.8.0:\n",
            "      Successfully uninstalled h5py-2.8.0\n",
            "  Found existing installation: Keras 2.2.5\n",
            "    Uninstalling Keras-2.2.5:\n",
            "      Successfully uninstalled Keras-2.2.5\n",
            "  Found existing installation: opencv-python 4.1.2.30\n",
            "    Uninstalling opencv-python-4.1.2.30:\n",
            "      Successfully uninstalled opencv-python-4.1.2.30\n",
            "  Found existing installation: tensorflow-estimator 1.15.1\n",
            "    Uninstalling tensorflow-estimator-1.15.1:\n",
            "      Successfully uninstalled tensorflow-estimator-1.15.1\n",
            "  Found existing installation: tensorboard 1.15.0\n",
            "    Uninstalling tensorboard-1.15.0:\n",
            "      Successfully uninstalled tensorboard-1.15.0\n",
            "Successfully installed Keras-2.2.4 enum34-1.1.10 ffmpeg-python-0.1.17 h5py-2.9.0 keras-contrib-2.0.8 mock-4.0.2 numpy-1.17.0 opencv-python-4.1.0.25 plaidml-0.7.0 plaidml-keras-0.5.0 tensorboard-2.1.1 tensorflow-estimator-2.1.0 tensorflow-gpu-1.13.1\n"
          ],
          "name": "stdout"
        },
        {
          "output_type": "display_data",
          "data": {
            "application/vnd.colab-display-data+json": {
              "pip_warning": {
                "packages": [
                  "enum",
                  "numpy"
                ]
              }
            }
          },
          "metadata": {
            "tags": []
          }
        },
        {
          "output_type": "stream",
          "text": [
            "Requirement already up-to-date: scikit-image in /usr/local/lib/python3.6/dist-packages (0.16.2)\n",
            "Requirement already satisfied, skipping upgrade: pillow>=4.3.0 in /usr/local/lib/python3.6/dist-packages (from scikit-image) (7.0.0)\n",
            "Requirement already satisfied, skipping upgrade: matplotlib!=3.0.0,>=2.0.0 in /usr/local/lib/python3.6/dist-packages (from scikit-image) (3.2.0)\n",
            "Requirement already satisfied, skipping upgrade: imageio>=2.3.0 in /usr/local/lib/python3.6/dist-packages (from scikit-image) (2.4.1)\n",
            "Requirement already satisfied, skipping upgrade: PyWavelets>=0.4.0 in /usr/local/lib/python3.6/dist-packages (from scikit-image) (1.1.1)\n",
            "Requirement already satisfied, skipping upgrade: scipy>=0.19.0 in /usr/local/lib/python3.6/dist-packages (from scikit-image) (1.4.1)\n",
            "Requirement already satisfied, skipping upgrade: networkx>=2.0 in /usr/local/lib/python3.6/dist-packages (from scikit-image) (2.4)\n",
            "Requirement already satisfied, skipping upgrade: kiwisolver>=1.0.1 in /usr/local/lib/python3.6/dist-packages (from matplotlib!=3.0.0,>=2.0.0->scikit-image) (1.1.0)\n",
            "Requirement already satisfied, skipping upgrade: cycler>=0.10 in /usr/local/lib/python3.6/dist-packages (from matplotlib!=3.0.0,>=2.0.0->scikit-image) (0.10.0)\n",
            "Requirement already satisfied, skipping upgrade: numpy>=1.11 in /usr/local/lib/python3.6/dist-packages (from matplotlib!=3.0.0,>=2.0.0->scikit-image) (1.17.0)\n",
            "Requirement already satisfied, skipping upgrade: python-dateutil>=2.1 in /usr/local/lib/python3.6/dist-packages (from matplotlib!=3.0.0,>=2.0.0->scikit-image) (2.8.1)\n",
            "Requirement already satisfied, skipping upgrade: pyparsing!=2.0.4,!=2.1.2,!=2.1.6,>=2.0.1 in /usr/local/lib/python3.6/dist-packages (from matplotlib!=3.0.0,>=2.0.0->scikit-image) (2.4.6)\n",
            "Requirement already satisfied, skipping upgrade: decorator>=4.3.0 in /usr/local/lib/python3.6/dist-packages (from networkx>=2.0->scikit-image) (4.4.2)\n",
            "Requirement already satisfied, skipping upgrade: setuptools in /usr/local/lib/python3.6/dist-packages (from kiwisolver>=1.0.1->matplotlib!=3.0.0,>=2.0.0->scikit-image) (46.0.0)\n",
            "Requirement already satisfied, skipping upgrade: six in /usr/local/lib/python3.6/dist-packages (from cycler>=0.10->matplotlib!=3.0.0,>=2.0.0->scikit-image) (1.12.0)\n"
          ],
          "name": "stdout"
        }
      ]
    },
    {
      "cell_type": "markdown",
      "metadata": {
        "id": "TSyIb0_PFBHL",
        "colab_type": "text"
      },
      "source": [
        "# 新段落"
      ]
    },
    {
      "cell_type": "code",
      "metadata": {
        "id": "i-RHyoGmbv-U",
        "colab_type": "code",
        "colab": {}
      },
      "source": [
        ""
      ],
      "execution_count": 0,
      "outputs": []
    },
    {
      "cell_type": "code",
      "metadata": {
        "id": "Q7w0ExKnb3i7",
        "colab_type": "code",
        "colab": {}
      },
      "source": [
        "!sudo apt-get install cuda-10-0"
      ],
      "execution_count": 0,
      "outputs": []
    },
    {
      "cell_type": "code",
      "metadata": {
        "id": "1gFXMXqb9s-o",
        "colab_type": "code",
        "colab": {}
      },
      "source": [
        "#创建DeepFaceLab目录，并且进入目录\n",
        "%cd /content/drive/My Drive/\n",
        "!mkdir DeepFaceLab\n",
        "%cd /content/drive/My Drive/DeepFaceLab/"
      ],
      "execution_count": 0,
      "outputs": []
    },
    {
      "cell_type": "code",
      "metadata": {
        "id": "6XEflxkO6lH1",
        "colab_type": "code",
        "colab": {}
      },
      "source": [
        "# 下面的1和2 不用同时点，二选一！！！！\n",
        "# 1. 练手可以使用这一行diam，直接git clone一个workspace\n",
        "!git clone https://github.com/kinking2008/Workspace.git workspace"
      ],
      "execution_count": 0,
      "outputs": []
    },
    {
      "cell_type": "code",
      "metadata": {
        "id": "kPAQTKNy9pnr",
        "colab_type": "code",
        "colab": {}
      },
      "source": [
        "# 2.正常情况肯定是通过谷歌云盘上传自己的workspace，上传前压缩一下，然后用下面的命令解压。\n",
        "# 注意一定要上传到DeepFaceLab目录下。\n",
        "!unzip workspace.zip"
      ],
      "execution_count": 0,
      "outputs": []
    },
    {
      "cell_type": "markdown",
      "metadata": {
        "id": "e0NBESeb79Ge",
        "colab_type": "text"
      },
      "source": [
        "# **第二步 安装DeepFaceLab**"
      ]
    },
    {
      "cell_type": "code",
      "metadata": {
        "id": "tB4qqyML6mCB",
        "colab_type": "code",
        "colab": {}
      },
      "source": [
        "# 获取DFL源代码921中文稳定版\n",
        "# 注意要获取新的版本，记得通过云盘把DeepFaceLab_Colab目录删除，然后执行以下命令\n",
        "\n",
        "!git clone https://github.com/iperov/DeepFaceLab.git"
      ],
      "execution_count": 0,
      "outputs": []
    },
    {
      "cell_type": "code",
      "metadata": {
        "id": "8Z8HRNyydMFA",
        "colab_type": "code",
        "colab": {}
      },
      "source": [
        ""
      ],
      "execution_count": 0,
      "outputs": []
    },
    {
      "cell_type": "code",
      "metadata": {
        "id": "S2uXSK7c-LHy",
        "colab_type": "code",
        "colab": {}
      },
      "source": [
        "# 安装Python依赖\n",
        "%cd /content/drive/My Drive/DeepFaceLab/DeepFaceLab\n",
        "!pip install -r requirements-colab.txt\n",
        "!pip install --upgrade scikit-image\n",
        "!sudo apt-get install cuda-10-0"
      ],
      "execution_count": 0,
      "outputs": []
    },
    {
      "cell_type": "markdown",
      "metadata": {
        "id": "VLr6Wzz--R0s",
        "colab_type": "text"
      },
      "source": [
        "# 第三步. 提取脸部"
      ]
    },
    {
      "cell_type": "code",
      "metadata": {
        "id": "YVYr5Y_4-XNy",
        "colab_type": "code",
        "colab": {}
      },
      "source": [
        "# 确保路径正确，进入DeepFaceLab\n",
        "\n",
        "%cd DeepFaceLab/DeepFaceLab/content/drive/My Drive/"
      ],
      "execution_count": 0,
      "outputs": []
    },
    {
      "cell_type": "code",
      "metadata": {
        "id": "v7FB22Es-cV4",
        "colab_type": "code",
        "colab": {}
      },
      "source": [
        "#Src 视频转图片\n",
        "\n",
        "!python main.py videoed extract-video --input-file ../workspace/data_src.mp4 --output-dir ../workspace/data_src/"
      ],
      "execution_count": 0,
      "outputs": []
    },
    {
      "cell_type": "code",
      "metadata": {
        "id": "_aOP0Fj0-jDE",
        "colab_type": "code",
        "colab": {}
      },
      "source": [
        "#Src 提取脸部图片\n",
        "\n",
        "!python main.py extract --input-dir ../workspace/data_src --output-dir ../workspace/data_src/aligned --detector s3fd --debug-dir ../workspace/data_src/aligned_debug"
      ],
      "execution_count": 0,
      "outputs": []
    },
    {
      "cell_type": "code",
      "metadata": {
        "id": "91sv39FI_AAY",
        "colab_type": "code",
        "colab": {}
      },
      "source": [
        "#Src排序，可以通过谷歌云盘查看结果，删除不良图片\n",
        "\n",
        "!python main.py sort --input-dir ../workspace/data_src/aligned --by hist"
      ],
      "execution_count": 0,
      "outputs": []
    },
    {
      "cell_type": "code",
      "metadata": {
        "id": "wB1WDqlS-uOJ",
        "colab_type": "code",
        "outputId": "0dc83d85-268c-400e-83fd-a258643da739",
        "colab": {
          "base_uri": "https://localhost:8080/",
          "height": 870
        }
      },
      "source": [
        "#Dst视频转图片\n",
        "\n",
        "!python main.py videoed extract-video --input-file ../workspace/data_dst.mp4 --output-dir ../workspace/data_dst/"
      ],
      "execution_count": 0,
      "outputs": [
        {
          "output_type": "stream",
          "text": [
            "提取每秒视频 FPS ( 帮助:? 跳过:按原视频FPS ) : 0\n",
            "输出图像格式? ( jpg png 帮助:? 回车默认：jpg ) : jpg\n",
            "ffmpeg version 3.4.6-0ubuntu0.18.04.1 Copyright (c) 2000-2019 the FFmpeg developers\n",
            "  built with gcc 7 (Ubuntu 7.3.0-16ubuntu3)\n",
            "  configuration: --prefix=/usr --extra-version=0ubuntu0.18.04.1 --toolchain=hardened --libdir=/usr/lib/x86_64-linux-gnu --incdir=/usr/include/x86_64-linux-gnu --enable-gpl --disable-stripping --enable-avresample --enable-avisynth --enable-gnutls --enable-ladspa --enable-libass --enable-libbluray --enable-libbs2b --enable-libcaca --enable-libcdio --enable-libflite --enable-libfontconfig --enable-libfreetype --enable-libfribidi --enable-libgme --enable-libgsm --enable-libmp3lame --enable-libmysofa --enable-libopenjpeg --enable-libopenmpt --enable-libopus --enable-libpulse --enable-librubberband --enable-librsvg --enable-libshine --enable-libsnappy --enable-libsoxr --enable-libspeex --enable-libssh --enable-libtheora --enable-libtwolame --enable-libvorbis --enable-libvpx --enable-libwavpack --enable-libwebp --enable-libx265 --enable-libxml2 --enable-libxvid --enable-libzmq --enable-libzvbi --enable-omx --enable-openal --enable-opengl --enable-sdl2 --enable-libdc1394 --enable-libdrm --enable-libiec61883 --enable-chromaprint --enable-frei0r --enable-libopencv --enable-libx264 --enable-shared\n",
            "  libavutil      55. 78.100 / 55. 78.100\n",
            "  libavcodec     57.107.100 / 57.107.100\n",
            "  libavformat    57. 83.100 / 57. 83.100\n",
            "  libavdevice    57. 10.100 / 57. 10.100\n",
            "  libavfilter     6.107.100 /  6.107.100\n",
            "  libavresample   3.  7.  0 /  3.  7.  0\n",
            "  libswscale      4.  8.100 /  4.  8.100\n",
            "  libswresample   2.  9.100 /  2.  9.100\n",
            "  libpostproc    54.  7.100 / 54.  7.100\n",
            "Input #0, mov,mp4,m4a,3gp,3g2,mj2, from '/content/drive/My Drive/DeepFaceLab/workspace/data_dst.mp4':\n",
            "  Metadata:\n",
            "    major_brand     : isom\n",
            "    minor_version   : 512\n",
            "    compatible_brands: isomiso2avc1mp41\n",
            "    encoder         : Lavf57.83.100\n",
            "    comment         : GIFSHOW [2380651][iOS][13.3][iPhone10,3][7.0.0.1491][Camera:front][enableVE:0] #[720x1280][8126k][124k][C][7][tv=17cf_0121][audioCmpGain=1.8582][eqMode=0][audioGain=2.7201][p=zeOuj7ZZC4iDbiR6b4600A==]\n",
            "  Duration: 00:00:28.93, start: -0.021814, bitrate: 1991 kb/s\n",
            "    Stream #0:0(und): Video: h264 (High) (avc1 / 0x31637661), yuv420p(tv, smpte170m/unknown/unknown), 720x1280, 1924 kb/s, 29.97 fps, 29.97 tbr, 11988 tbn, 59.94 tbc (default)\n",
            "    Metadata:\n",
            "      handler_name    : VideoHandler\n",
            "    Stream #0:1(und): Audio: aac (HE-AAC) (mp4a / 0x6134706D), 44100 Hz, stereo, fltp, 64 kb/s (default)\n",
            "    Metadata:\n",
            "      handler_name    : SoundHandler\n",
            "Stream mapping:\n",
            "  Stream #0:0 -> #0:0 (h264 (native) -> mjpeg (native))\n",
            "Press [q] to stop, [?] for help\n",
            "\u001b[0;33mIncompatible pixel format 'rgb24' for codec 'mjpeg', auto-selecting format 'yuvj444p'\n",
            "\u001b[0m\u001b[1;34m[swscaler @ 0x558891fa6000] \u001b[0m\u001b[0;33mdeprecated pixel format used, make sure you did set range correctly\n",
            "\u001b[0mOutput #0, image2, to '/content/drive/My Drive/DeepFaceLab/workspace/data_dst/%5d.jpg':\n",
            "  Metadata:\n",
            "    major_brand     : isom\n",
            "    minor_version   : 512\n",
            "    compatible_brands: isomiso2avc1mp41\n",
            "    comment         : GIFSHOW [2380651][iOS][13.3][iPhone10,3][7.0.0.1491][Camera:front][enableVE:0] #[720x1280][8126k][124k][C][7][tv=17cf_0121][audioCmpGain=1.8582][eqMode=0][audioGain=2.7201][p=zeOuj7ZZC4iDbiR6b4600A==]\n",
            "    encoder         : Lavf57.83.100\n",
            "    Stream #0:0(und): Video: mjpeg, yuvj444p(pc), 720x1280, q=2-31, 200 kb/s, 29.97 fps, 29.97 tbn, 29.97 tbc (default)\n",
            "    Metadata:\n",
            "      handler_name    : VideoHandler\n",
            "      encoder         : Lavc57.107.100 mjpeg\n",
            "    Side data:\n",
            "      cpb: bitrate max/min/avg: 0/0/200000 buffer size: 0 vbv_delay: -1\n",
            "frame=  866 fps= 28 q=2.0 Lsize=N/A time=00:00:28.89 bitrate=N/A dup=1 drop=0 speed=0.947x    \n",
            "video:169620kB audio:0kB subtitle:0kB other streams:0kB global headers:0kB muxing overhead: unknown\n",
            "Done.\n"
          ],
          "name": "stdout"
        }
      ]
    },
    {
      "cell_type": "code",
      "metadata": {
        "id": "AL9JU9yp_eAI",
        "colab_type": "code",
        "outputId": "4c1d60ba-197d-4139-94db-c2f1ccae9ddc",
        "colab": {
          "base_uri": "https://localhost:8080/",
          "height": 513
        }
      },
      "source": [
        "#Dst提取脸部图片\n",
        "\n",
        "!python main.py extract --input-dir ../workspace/data_dst --output-dir ../workspace/data_dst/aligned --detector s3fd --debug-dir ../workspace/data_dst/aligned_debug"
      ],
      "execution_count": 0,
      "outputs": [
        {
          "output_type": "stream",
          "text": [
            "警告 !!! \n",
            " /content/drive/My Drive/DeepFaceLab/workspace/data_dst/aligned 内有文件! \n",
            " 它们将被删除。 \n",
            " 按 Enter 键继续。\n",
            "n\n",
            "进行第1步...\n",
            "运行模式： Tesla P100-PCIE-16GB.\n",
            "Using TensorFlow backend.\n",
            "WARNING:tensorflow:From /usr/local/lib/python3.6/dist-packages/tensorflow/python/framework/op_def_library.py:263: colocate_with (from tensorflow.python.framework.ops) is deprecated and will be removed in a future version.\n",
            "Instructions for updating:\n",
            "Colocations handled automatically by placer.\n",
            "100% 866/866 [00:40<00:00, 21.64it/s]\n",
            "进行第2步...\n",
            "运行模式： Tesla P100-PCIE-16GB.\n",
            "Using TensorFlow backend.\n",
            "WARNING:tensorflow:From /usr/local/lib/python3.6/dist-packages/tensorflow/python/framework/op_def_library.py:263: colocate_with (from tensorflow.python.framework.ops) is deprecated and will be removed in a future version.\n",
            "Instructions for updating:\n",
            "Colocations handled automatically by placer.\n",
            "100% 866/866 [04:05<00:00,  3.53it/s]\n",
            "进行第3步...\n",
            "运行模式： CPU0.\n",
            "运行模式： CPU1.\n",
            "100% 866/866 [01:14<00:00, 11.66it/s]\n",
            "-------------------------\n",
            "发现图片:        866\n",
            "检测到脸型:      866\n",
            "-------------------------\n",
            "Done.\n"
          ],
          "name": "stdout"
        }
      ]
    },
    {
      "cell_type": "code",
      "metadata": {
        "id": "5r5cVamd_g5Q",
        "colab_type": "code",
        "outputId": "29deae5e-7fcc-4526-baa3-e9a5cdc13db4",
        "colab": {
          "base_uri": "https://localhost:8080/",
          "height": 136
        }
      },
      "source": [
        "#Dst排序，可以通过谷歌云盘查看结果，删除不良图片\n",
        "\n",
        "!python main.py sort --input-dir ../workspace/data_dst/aligned --by hist"
      ],
      "execution_count": 0,
      "outputs": [
        {
          "output_type": "stream",
          "text": [
            "运行排序工具。\r\n",
            "\n",
            "按直方图相似性排序......\n",
            "运行模式： CPU0.\n",
            "排序: 100% 866/866 [00:06<00:00, 137.07it/s]\n",
            "重命名: 100% 866/866 [00:05<00:00, 173.14it/s]\n",
            "Done.\n"
          ],
          "name": "stdout"
        }
      ]
    },
    {
      "cell_type": "markdown",
      "metadata": {
        "id": "tnq5g61HAAui",
        "colab_type": "text"
      },
      "source": [
        "# 第四步. 训练模型\n",
        "支持H128,SAE,DF, LIAEF128等模型，根据自己的情况选择模型。\n",
        "训练开始是需要配置参数，记得开启预览，其他参数根据自己情况选择，使用默认参数的话直接回车即可。\n",
        "不想训练了可以点击停止，停止时会抛出异常，但是没什么关系。下次可以继续训练\n",
        "如果想要查看history ，先停止训练，然后点击下面第三段代码"
      ]
    },
    {
      "cell_type": "code",
      "metadata": {
        "id": "RG_slCcIAnH_",
        "colab_type": "code",
        "outputId": "e73ff579-d05c-43c7-f6b9-a8e661b94868",
        "colab": {
          "base_uri": "https://localhost:8080/",
          "height": 84
        }
      },
      "source": [
        "#Src头像缓存，提高图片载入速度，请把aligned.zip放在对应的目录下\n",
        "%cd /content/drive/My Drive/DeepFaceLab/workspace/data_src\n",
        "!unzip -o -q aligned.zip\n",
        "print(\"src解压已完成\")"
      ],
      "execution_count": 0,
      "outputs": [
        {
          "output_type": "stream",
          "text": [
            "[Errno 2] No such file or directory: '/content/drive/My Drive/DeepFaceLab/workspace/data_src'\n",
            "/content\n",
            "unzip:  cannot find or open aligned.zip, aligned.zip.zip or aligned.zip.ZIP.\n",
            "src解压已完成\n"
          ],
          "name": "stdout"
        }
      ]
    },
    {
      "cell_type": "code",
      "metadata": {
        "id": "jEwV7fahAoGI",
        "colab_type": "code",
        "outputId": "8215c8e9-943c-4266-9fe4-e64335bd87bd",
        "colab": {
          "base_uri": "https://localhost:8080/",
          "height": 50
        }
      },
      "source": [
        "#dst头像缓存，提高图片载入速度，请把aligned.zip放在对应的目录下\n",
        "%cd /content/drive/My Drive/DeepFaceLab/workspace/data_dst\n",
        "!unzip -o -q aligned.zip\n",
        "print(\"dst解压已完成\")"
      ],
      "execution_count": 0,
      "outputs": [
        {
          "output_type": "stream",
          "text": [
            "/content/drive/My Drive/DeepFaceLab/workspace/data_dst\n",
            "dst解压已完成\n"
          ],
          "name": "stdout"
        }
      ]
    },
    {
      "cell_type": "code",
      "metadata": {
        "id": "79HsZc4fAqeo",
        "colab_type": "code",
        "colab": {}
      },
      "source": [
        "# 确保路径正确，进入DeepFaceLab_Colab\n",
        "\n",
        "%cd /content/drive/My Drive/DeepFaceLab/DeepFaceLab"
      ],
      "execution_count": 0,
      "outputs": []
    },
    {
      "cell_type": "markdown",
      "metadata": {
        "id": "U135evJ0A8Hk",
        "colab_type": "text"
      },
      "source": [
        "**下面是启动模型训练的脚本，不要全部点，只要点其中一个。默认使用第二个SAE**\n"
      ]
    },
    {
      "cell_type": "code",
      "metadata": {
        "id": "vROyHUZ-A-bP",
        "colab_type": "code",
        "colab": {}
      },
      "source": [
        "# 运行训练 TrueFace\n",
        "\n",
        "!python main.py train --training-data-src-dir ../workspace/data_src/aligned --training-data-dst-dir ../workspace/data_dst/aligned --model-dir ../workspace/model --model TrueFace --no-preview"
      ],
      "execution_count": 0,
      "outputs": []
    },
    {
      "cell_type": "code",
      "metadata": {
        "id": "ZGDMn7-CBD6l",
        "colab_type": "code",
        "colab": {}
      },
      "source": [
        "# 运行训练 SAE \n",
        "\n",
        "!python main.py train --training-data-src-dir ../workspace/data_src/aligned --training-data-dst-dir ../workspace/data_dst/aligned --model-dir ../workspace/model --model SAE --no-preview"
      ],
      "execution_count": 0,
      "outputs": []
    },
    {
      "cell_type": "code",
      "metadata": {
        "id": "Gb_5QlnOBIAC",
        "colab_type": "code",
        "colab": {}
      },
      "source": [
        "# 运行训练 NEW SAE \n",
        "\n",
        "!python main.py train --training-data-src-dir ../workspace/data_src/aligned --training-data-dst-dir ../workspace/data_dst/aligned --model-dir ../workspace/model --model NEWSAE --no-preview"
      ],
      "execution_count": 0,
      "outputs": []
    },
    {
      "cell_type": "code",
      "metadata": {
        "id": "b24aBE-6RQp5",
        "colab_type": "code",
        "colab": {}
      },
      "source": [
        "!sudo apt-get install cuda-10-0"
      ],
      "execution_count": 0,
      "outputs": []
    },
    {
      "cell_type": "markdown",
      "metadata": {
        "id": "T2f9Ctyf3d6w",
        "colab_type": "text"
      },
      "source": [
        ""
      ]
    },
    {
      "cell_type": "markdown",
      "metadata": {
        "id": "NnAxqCs1oTyG",
        "colab_type": "text"
      },
      "source": [
        ""
      ]
    },
    {
      "cell_type": "code",
      "metadata": {
        "id": "zGAySveABdtL",
        "colab_type": "code",
        "colab": {}
      },
      "source": [
        "# 运行训练  H128\n",
        "\n",
        "!python main.py train --training-data-src-dir ../workspace/data_src/aligned --training-data-dst-dir ../workspace/data_dst/aligned --model-dir ../workspace/model --model H128 --no-preview"
      ],
      "execution_count": 0,
      "outputs": []
    },
    {
      "cell_type": "code",
      "metadata": {
        "id": "K2ydLW_pBfsv",
        "colab_type": "code",
        "colab": {}
      },
      "source": [
        "# 运行训练  H256\n",
        "\n",
        "!python main.py train --training-data-src-dir ../workspace/data_src/aligned --training-data-dst-dir ../workspace/data_dst/aligned --model-dir ../workspace/model --model H256 --no-preview"
      ],
      "execution_count": 0,
      "outputs": []
    },
    {
      "cell_type": "code",
      "metadata": {
        "id": "HBxlo_qHBLWf",
        "colab_type": "code",
        "colab": {}
      },
      "source": [
        "# 运行训练 DF \n",
        "\n",
        "!python main.py train --training-data-src-dir ../workspace/data_src/aligned --training-data-dst-dir ../workspace/data_dst/aligned --model-dir ../workspace/model --model DF --no-preview"
      ],
      "execution_count": 0,
      "outputs": []
    },
    {
      "cell_type": "code",
      "metadata": {
        "id": "4fJ5YoF_Bj8Q",
        "colab_type": "code",
        "colab": {}
      },
      "source": [
        "# 运行训练 DF256\n",
        "\n",
        "!python main.py train --training-data-src-dir ../workspace/data_src/aligned --training-data-dst-dir ../workspace/data_dst/aligned --model-dir ../workspace/model --model DF256 --no-preview"
      ],
      "execution_count": 0,
      "outputs": []
    },
    {
      "cell_type": "code",
      "metadata": {
        "id": "tqfjsak5BSro",
        "colab_type": "code",
        "outputId": "8a2e5625-27a2-4c7f-e62d-65bbb07bfd8b",
        "colab": {
          "base_uri": "https://localhost:8080/",
          "height": 870
        }
      },
      "source": [
        "# 运行训练 SAEHD \n",
        "\n",
        "!python main.py train --training-data-src-dir ../workspace/data_src/aligned --training-data-dst-dir ../workspace/data_dst/aligned --model-dir ../workspace/model --model SAEHD --no-preview"
      ],
      "execution_count": 0,
      "outputs": [
        {
          "output_type": "stream",
          "text": [
            "进行训练.\r\n",
            "\n",
            "载入模型...技术咨询微信:huoy2345(可打赏技术咨询）\n",
            "2秒内按enter键更改模型中设置。Using TensorFlow backend.\n",
            "WARNING:tensorflow:From /usr/local/lib/python3.6/dist-packages/tensorflow/python/framework/op_def_library.py:263: colocate_with (from tensorflow.python.framework.ops) is deprecated and will be removed in a future version.\n",
            "Instructions for updating:\n",
            "Colocations handled automatically by placer.\n",
            "WARNING:tensorflow:From /usr/local/lib/python3.6/dist-packages/tensorflow/python/ops/math_ops.py:3066: to_int32 (from tensorflow.python.ops.math_ops) is deprecated and will be removed in a future version.\n",
            "Instructions for updating:\n",
            "Use tf.cast instead.\n",
            "加载: 100% 4068/4068 [38:50<00:00,  1.75it/s]\n",
            "加载: 100% 866/866 [00:10<00:00, 84.93it/s]\n",
            "====================模型总体参数 =====================\n",
            "==                                                    ==\n",
            "==----------------------模型记录----------------------==\n",
            "==                                                    ==\n",
            "==               模型名称: SAEHD                      ==\n",
            "==                                                    ==\n",
            "==               当前迭代: 258385                     ==\n",
            "==                                                    ==\n",
            "==----------------------模型选项----------------------==\n",
            "==                                                    ==\n",
            "==        sort_by_yaw: False                          ==\n",
            "==        random_flip: True                           ==\n",
            "==         resolution: 128                            ==\n",
            "==          face_type: f                              ==\n",
            "==         learn_mask: True                           ==\n",
            "==     optimizer_mode: 2                              ==\n",
            "==              archi: df                             ==\n",
            "==            ae_dims: 512                            ==\n",
            "==         ed_ch_dims: 42                             ==\n",
            "==        random_warp: True                           ==\n",
            "== true_face_training: False                          ==\n",
            "==   face_style_power: 0.0                            ==\n",
            "==     bg_style_power: 0.0                            ==\n",
            "==            ct_mode: none                           ==\n",
            "==           clipgrad: False                          ==\n",
            "==         batch_size: 10                             ==\n",
            "==                                                    ==\n",
            "==----------------------运行模式----------------------==\n",
            "==                                                    ==\n",
            "==               设备索引: 0                          ==\n",
            "==                 名称: Tesla P100-PCIE-16GB         ==\n",
            "==                 显存: 16.00GB                      ==\n",
            "==                                                    ==\n",
            "========================================================\n",
            "开始。 按“Enter”键停止训练并保存模型。按“P”预览下一张\n",
            "[20:12:20][#258740][2478ms][0.1303][0.2375]\n",
            "Done.\n"
          ],
          "name": "stdout"
        }
      ]
    },
    {
      "cell_type": "code",
      "metadata": {
        "id": "ZAqHU55cBmPQ",
        "colab_type": "code",
        "colab": {}
      },
      "source": [
        "# 运行训练 LIAEF128 \n",
        "\n",
        "!python main.py train --training-data-src-dir ../workspace/data_src/aligned --training-data-dst-dir ../workspace/data_dst/aligned --model-dir ../workspace/model --model LIAEF128 --no-preview"
      ],
      "execution_count": 0,
      "outputs": []
    },
    {
      "cell_type": "markdown",
      "metadata": {
        "id": "PwV8RmIYBrXJ",
        "colab_type": "text"
      },
      "source": [
        "**模型预览请使用独立的colab脚本**： https://github.com/dream80/DeepFaceLab_Colab/blob/master/ViewLastHistory.ipynb"
      ]
    },
    {
      "cell_type": "code",
      "metadata": {
        "id": "uCDPlBgUB2mk",
        "colab_type": "code",
        "colab": {}
      },
      "source": [
        "#@title\n",
        "# 训练效果预览，先把训练暂停，然后允许这一段代码。\n",
        "# 如果不想暂停训练，你可以点击这个链接。 https://github.com/dream80/DeepFaceLab_Colab/blob/master/ViewLastHistory_H128.ipynb\n",
        "# 在新的页面上查看。\n",
        "\n",
        "import matplotlib.pyplot as plt\n",
        "import tensorflow as tf\n",
        "import numpy as np\n",
        "import os\n",
        "from google.colab import files\n",
        " \n",
        "print(tf.__version__)\n",
        "\n",
        "imgpath=\"/content/drive/My Drive/DeepFaceLab/workspace/model/H128_history/\"\n",
        "tlist=os.listdir(imgpath)\n",
        "tlist.sort(key=lambda x:int(x[:-5]))\n",
        "lastpic=tlist[-1]\n",
        "\n",
        "image_raw = tf.gfile.GFile(imgpath+lastpic,'rb').read()   #bytes\n",
        "img = tf.image.decode_jpeg(image_raw)  #Tensor\n",
        "\n",
        "plt.rcParams['figure.figsize'] = (8, 4.0)\n",
        "plt.rcParams['image.interpolation'] = 'nearest'\n",
        "plt.rcParams['image.cmap'] = 'gray' \n",
        "plt.rcParams['savefig.dpi'] =200 \n",
        "plt.rcParams['figure.dpi'] = 200\n",
        "\n",
        "\n",
        "\n",
        "with tf.Session() as sess:\n",
        "    plt.imshow(img.eval())\n",
        " "
      ],
      "execution_count": 0,
      "outputs": []
    },
    {
      "cell_type": "markdown",
      "metadata": {
        "id": "g7OVyOomCV-y",
        "colab_type": "text"
      },
      "source": [
        "# 第五步. 转换输出\n",
        "默认使用SAE进行转换，如果需要其他模型，请修改命令中的参数。\n",
        "\n",
        "比如将 --model SAE 修改为 --model H128"
      ]
    },
    {
      "cell_type": "code",
      "metadata": {
        "id": "ck3P1WezDeJU",
        "colab_type": "code",
        "outputId": "44e22be9-2f4b-47d4-dad3-5b4d583b8c9c",
        "colab": {
          "base_uri": "https://localhost:8080/",
          "height": 34
        }
      },
      "source": [
        "from google.colab import drive\n",
        "drive.mount('/content/drive')"
      ],
      "execution_count": 0,
      "outputs": [
        {
          "output_type": "stream",
          "text": [
            "Drive already mounted at /content/drive; to attempt to forcibly remount, call drive.mount(\"/content/drive\", force_remount=True).\n"
          ],
          "name": "stdout"
        }
      ]
    },
    {
      "cell_type": "markdown",
      "metadata": {
        "id": "uoRTVnQ6C_xp",
        "colab_type": "text"
      },
      "source": [
        "# 新段落"
      ]
    },
    {
      "cell_type": "code",
      "metadata": {
        "id": "LuLaQ_0ECZ_P",
        "colab_type": "code",
        "outputId": "fccbfb58-2f91-4b1f-ab6d-8e654fb89299",
        "colab": {
          "base_uri": "https://localhost:8080/",
          "height": 1000
        }
      },
      "source": [
        "#用src中的脸替换dst的脸 \n",
        "!python main.py convert --input-dir ../workspace/data_dst --output-dir ../workspace/data_dst/merged --aligned-dir ../workspace/data_dst/aligned --model-dir ../workspace/model --model SAEHD"
      ],
      "execution_count": 0,
      "outputs": [
        {
          "output_type": "stream",
          "text": [
            "Running converter.\r\n",
            "\n",
            "载入模型...技术咨询微信:huoy2345(可打赏技术咨询）\n",
            "Using TensorFlow backend.\n",
            "WARNING:tensorflow:From /usr/local/lib/python3.6/dist-packages/tensorflow/python/framework/op_def_library.py:263: colocate_with (from tensorflow.python.framework.ops) is deprecated and will be removed in a future version.\n",
            "Instructions for updating:\n",
            "Colocations handled automatically by placer.\n",
            "====================模型总体参数 =====================\n",
            "==                                                    ==\n",
            "==----------------------模型记录----------------------==\n",
            "==                                                    ==\n",
            "==               模型名称: SAEHD                      ==\n",
            "==                                                    ==\n",
            "==               当前迭代: 258852                     ==\n",
            "==                                                    ==\n",
            "==----------------------模型选项----------------------==\n",
            "==                                                    ==\n",
            "==        sort_by_yaw: False                          ==\n",
            "==        random_flip: True                           ==\n",
            "==         resolution: 128                            ==\n",
            "==          face_type: f                              ==\n",
            "==         learn_mask: True                           ==\n",
            "==     optimizer_mode: 2                              ==\n",
            "==              archi: df                             ==\n",
            "==            ae_dims: 512                            ==\n",
            "==         ed_ch_dims: 42                             ==\n",
            "==        random_warp: True                           ==\n",
            "== true_face_training: False                          ==\n",
            "==   face_style_power: 0.0                            ==\n",
            "==     bg_style_power: 0.0                            ==\n",
            "==            ct_mode: none                           ==\n",
            "==           clipgrad: False                          ==\n",
            "==         batch_size: 10                             ==\n",
            "==                                                    ==\n",
            "==----------------------运行模式----------------------==\n",
            "==                                                    ==\n",
            "==               设备索引: 0                          ==\n",
            "==                 名称: Tesla P100-PCIE-16GB         ==\n",
            "==                 显存: 16.00GB                      ==\n",
            "==                                                    ==\n",
            "========================================================\n",
            "选择模式: \n",
            "(0) original\n",
            "(1) overlay\n",
            "(2) hist-match\n",
            "(3) seamless\n",
            "(4) seamless-hist-match\n",
            "(5) raw-rgb\n",
            "(6) raw-rgb-mask\n",
            "(7) raw-mask-only\n",
            "(8) raw-predicted-only\n",
            "默认: 3 : 1\n",
            "选择遮罩模式: \n",
            "(1) learned\n",
            "(2) dst\n",
            "(3) FAN-prd\n",
            "(4) FAN-dst\n",
            "(5) FAN-prd*FAN-dst\n",
            "(6) learned*FAN-prd*FAN-dst\n",
            "帮助:? 默认: 1 : \n",
            "1\n",
            "选择侵蚀面具修改器 [-400..400] (跳过:0) : 150\n",
            "选择模糊遮罩修改器 [-400..400] (跳过:0) : 150\n",
            "选择运动模糊力度 [0..100] (跳过:0) : 20\n",
            "选择输出面部比例修改器 [-50..50] (跳过:0) : \n",
            "0\n",
            "将颜色转移应用于预测的脸部吗？ 选择模式 ( None / rct / lct / mkl / mkl-m / idt / idt-m / sot-m / mix-m 跳过:None ) : rct \n",
            "选择锐化模式: \n",
            "(0) None\n",
            "(1) box\n",
            "(2) gaussian\n",
            "帮助:? 默认: 0 : \n",
            "0\n",
            "选择超级分辨率模式: \n",
            "(0) None\n",
            "(1) RankSRGAN\n",
            "帮助:? 默认: 0 : \n",
            "0\n",
            "选择图像降噪强度 [0..500] (跳过:0) : 20\n",
            "选择图像双三次降低功率 [0..100] (跳过:0) : \n",
            "0\n",
            "降低最终图像的色彩力度 [0..100] (跳过:0) : \n",
            "0\n",
            "用alpha通道导出png格式图片? (y/n 跳过:n) : \n",
            "n\n",
            "\n",
            "Collecting alignments: 100% 866/866 [00:09<00:00, 92.43it/s]\n",
            "Computing motion vectors: 100% 866/866 [00:00<00:00, 1499.80it/s]\n",
            "Running on CPU1.\n",
            "Running on CPU0.\n",
            "Converting: 100% 866/866 [06:31<00:00,  2.21it/s]\n",
            "Done.\n"
          ],
          "name": "stdout"
        }
      ]
    },
    {
      "cell_type": "code",
      "metadata": {
        "id": "yeZ2-6O1CdUw",
        "colab_type": "code",
        "outputId": "ff4766f1-208c-4206-b4d3-98737a53e4ba",
        "colab": {
          "base_uri": "https://localhost:8080/",
          "height": 1000
        }
      },
      "source": [
        "#把替换好的图片转换成视频\n",
        "\n",
        "!python main.py videoed video-from-sequence --input-dir ../workspace/data_dst/merged --output-file ../workspace/result.mp4 --reference-file ../workspace/data_dst.mp4"
      ],
      "execution_count": 0,
      "outputs": [
        {
          "output_type": "stream",
          "text": [
            "输出文件的比特率每秒多少MB? (默认:6的意思是比特率6000) : \n",
            "6\n",
            "ffmpeg version 3.4.6-0ubuntu0.18.04.1 Copyright (c) 2000-2019 the FFmpeg developers\n",
            "  built with gcc 7 (Ubuntu 7.3.0-16ubuntu3)\n",
            "  configuration: --prefix=/usr --extra-version=0ubuntu0.18.04.1 --toolchain=hardened --libdir=/usr/lib/x86_64-linux-gnu --incdir=/usr/include/x86_64-linux-gnu --enable-gpl --disable-stripping --enable-avresample --enable-avisynth --enable-gnutls --enable-ladspa --enable-libass --enable-libbluray --enable-libbs2b --enable-libcaca --enable-libcdio --enable-libflite --enable-libfontconfig --enable-libfreetype --enable-libfribidi --enable-libgme --enable-libgsm --enable-libmp3lame --enable-libmysofa --enable-libopenjpeg --enable-libopenmpt --enable-libopus --enable-libpulse --enable-librubberband --enable-librsvg --enable-libshine --enable-libsnappy --enable-libsoxr --enable-libspeex --enable-libssh --enable-libtheora --enable-libtwolame --enable-libvorbis --enable-libvpx --enable-libwavpack --enable-libwebp --enable-libx265 --enable-libxml2 --enable-libxvid --enable-libzmq --enable-libzvbi --enable-omx --enable-openal --enable-opengl --enable-sdl2 --enable-libdc1394 --enable-libdrm --enable-libiec61883 --enable-chromaprint --enable-frei0r --enable-libopencv --enable-libx264 --enable-shared\n",
            "  libavutil      55. 78.100 / 55. 78.100\n",
            "  libavcodec     57.107.100 / 57.107.100\n",
            "  libavformat    57. 83.100 / 57. 83.100\n",
            "  libavdevice    57. 10.100 / 57. 10.100\n",
            "  libavfilter     6.107.100 /  6.107.100\n",
            "  libavresample   3.  7.  0 /  3.  7.  0\n",
            "  libswscale      4.  8.100 /  4.  8.100\n",
            "  libswresample   2.  9.100 /  2.  9.100\n",
            "  libpostproc    54.  7.100 / 54.  7.100\n",
            "Input #0, image2pipe, from 'pipe:':\n",
            "  Duration: N/A, bitrate: N/A\n",
            "    Stream #0:0: Video: png, rgb24(pc), 720x1280, 29.97 fps, 29.97 tbr, 29.97 tbn, 29.97 tbc\n",
            "Input #1, mov,mp4,m4a,3gp,3g2,mj2, from '/content/drive/My Drive/DeepFaceLab/workspace/data_dst.mp4':\n",
            "  Metadata:\n",
            "    major_brand     : isom\n",
            "    minor_version   : 512\n",
            "    compatible_brands: isomiso2avc1mp41\n",
            "    encoder         : Lavf57.83.100\n",
            "    comment         : GIFSHOW [2380651][iOS][13.3][iPhone10,3][7.0.0.1491][Camera:front][enableVE:0] #[720x1280][8126k][124k][C][7][tv=17cf_0121][audioCmpGain=1.8582][eqMode=0][audioGain=2.7201][p=zeOuj7ZZC4iDbiR6b4600A==]\n",
            "  Duration: 00:00:28.93, start: -0.021814, bitrate: 1991 kb/s\n",
            "    Stream #1:0(und): Video: h264 (High) (avc1 / 0x31637661), yuv420p(tv, smpte170m/unknown/unknown), 720x1280, 1924 kb/s, 29.97 fps, 29.97 tbr, 11988 tbn, 59.94 tbc (default)\n",
            "    Metadata:\n",
            "      handler_name    : VideoHandler\n",
            "    Stream #1:1(und): Audio: aac (HE-AAC) (mp4a / 0x6134706D), 44100 Hz, stereo, fltp, 64 kb/s (default)\n",
            "    Metadata:\n",
            "      handler_name    : SoundHandler\n",
            "Stream mapping:\n",
            "  Stream #0:0 -> #0:0 (png (native) -> h264 (libx264))\n",
            "  Stream #1:1 -> #0:1 (aac (native) -> aac (native))\n",
            "\u001b[1;36m[libx264 @ 0x55eb96a04000] \u001b[0musing cpu capabilities: MMX2 SSE2Fast SSSE3 SSE4.2 AVX FMA3 BMI2 AVX2 AVX512\n",
            "\u001b[1;36m[libx264 @ 0x55eb96a04000] \u001b[0mprofile High, level 3.1\n",
            "\u001b[1;36m[libx264 @ 0x55eb96a04000] \u001b[0m264 - core 152 r2854 e9a5903 - H.264/MPEG-4 AVC codec - Copyleft 2003-2017 - http://www.videolan.org/x264.html - options: cabac=1 ref=3 deblock=1:0:0 analyse=0x3:0x113 me=hex subme=7 psy=1 psy_rd=1.00:0.00 mixed_ref=1 me_range=16 chroma_me=1 trellis=1 8x8dct=1 cqm=0 deadzone=21,11 fast_pskip=1 chroma_qp_offset=-2 threads=3 lookahead_threads=1 sliced_threads=0 nr=0 decimate=1 interlaced=0 bluray_compat=0 constrained_intra=0 bframes=3 b_pyramid=2 b_adapt=1 b_bias=0 direct=1 weightb=1 open_gop=0 weightp=2 keyint=250 keyint_min=25 scenecut=40 intra_refresh=0 rc_lookahead=40 rc=abr mbtree=1 bitrate=6000 ratetol=1.0 qcomp=0.60 qpmin=0 qpmax=69 qpstep=4 ip_ratio=1.40 aq=1:1.00\n",
            "Output #0, mp4, to '/content/drive/My Drive/DeepFaceLab/workspace/result.mp4':\n",
            "  Metadata:\n",
            "    encoder         : Lavf57.83.100\n",
            "    Stream #0:0: Video: h264 (libx264) (avc1 / 0x31637661), yuv420p(progressive), 720x1280, q=-1--1, 6000 kb/s, 29.97 fps, 11988 tbn, 29.97 tbc\n",
            "    Metadata:\n",
            "      encoder         : Lavc57.107.100 libx264\n",
            "    Side data:\n",
            "      cpb: bitrate max/min/avg: 0/0/6000000 buffer size: 0 vbv_delay: -1\n",
            "    Stream #0:1(und): Audio: aac (LC) (mp4a / 0x6134706D), 48000 Hz, stereo, fltp, 192 kb/s (default)\n",
            "    Metadata:\n",
            "      handler_name    : SoundHandler\n",
            "      encoder         : Lavc57.107.100 aac\n",
            "\u001b[0;35m[image2pipe @ 0x55eb969e2000] \u001b[0m\u001b[0;33mThread message queue blocking; consider raising the thread_queue_size option (current value: 8)\n",
            "frame=  866 fps= 11 q=-1.0 Lsize=   21956kB time=00:00:28.84 bitrate=6234.7kbits/s speed=0.378x    \n",
            "video:21250kB audio:673kB subtitle:0kB other streams:0kB global headers:0kB muxing overhead: 0.147341%\n",
            "\u001b[1;36m[libx264 @ 0x55eb96a04000] \u001b[0mframe I:4     Avg QP:12.23  size:185042\n",
            "\u001b[1;36m[libx264 @ 0x55eb96a04000] \u001b[0mframe P:218   Avg QP:14.26  size: 65701\n",
            "\u001b[1;36m[libx264 @ 0x55eb96a04000] \u001b[0mframe B:644   Avg QP:18.79  size: 10399\n",
            "\u001b[1;36m[libx264 @ 0x55eb96a04000] \u001b[0mconsecutive B-frames:  0.8%  0.0%  0.3% 98.8%\n",
            "\u001b[1;36m[libx264 @ 0x55eb96a04000] \u001b[0mmb I  I16..4:  7.0% 67.2% 25.8%\n",
            "\u001b[1;36m[libx264 @ 0x55eb96a04000] \u001b[0mmb P  I16..4:  2.0% 14.6%  2.9%  P16..4: 28.2% 24.6% 18.2%  0.0%  0.0%    skip: 9.5%\n",
            "\u001b[1;36m[libx264 @ 0x55eb96a04000] \u001b[0mmb B  I16..4:  0.2%  0.8%  0.1%  B16..8: 40.6% 11.2%  3.1%  direct: 5.7%  skip:38.2%  L0:41.8% L1:38.8% BI:19.5%\n",
            "\u001b[1;36m[libx264 @ 0x55eb96a04000] \u001b[0mfinal ratefactor: 14.65\n",
            "\u001b[1;36m[libx264 @ 0x55eb96a04000] \u001b[0m8x8 transform intra:73.9% inter:68.8%\n",
            "\u001b[1;36m[libx264 @ 0x55eb96a04000] \u001b[0mcoded y,uvDC,uvAC intra: 72.7% 88.1% 67.3% inter: 28.2% 24.7% 2.4%\n",
            "\u001b[1;36m[libx264 @ 0x55eb96a04000] \u001b[0mi16 v,h,dc,p: 36% 19% 16% 29%\n",
            "\u001b[1;36m[libx264 @ 0x55eb96a04000] \u001b[0mi8 v,h,dc,ddl,ddr,vr,hd,vl,hu: 33% 14% 21%  4%  4%  8%  4%  7%  4%\n",
            "\u001b[1;36m[libx264 @ 0x55eb96a04000] \u001b[0mi4 v,h,dc,ddl,ddr,vr,hd,vl,hu: 34% 18% 16%  4%  6%  8%  5%  5%  3%\n",
            "\u001b[1;36m[libx264 @ 0x55eb96a04000] \u001b[0mi8c dc,h,v,p: 51% 18% 25%  5%\n",
            "\u001b[1;36m[libx264 @ 0x55eb96a04000] \u001b[0mWeighted P-Frames: Y:6.9% UV:0.5%\n",
            "\u001b[1;36m[libx264 @ 0x55eb96a04000] \u001b[0mref P L0: 56.1% 18.4% 19.9%  5.5%  0.2%\n",
            "\u001b[1;36m[libx264 @ 0x55eb96a04000] \u001b[0mref B L0: 91.8%  7.1%  1.1%\n",
            "\u001b[1;36m[libx264 @ 0x55eb96a04000] \u001b[0mref B L1: 97.2%  2.8%\n",
            "\u001b[1;36m[libx264 @ 0x55eb96a04000] \u001b[0mkb/s:6024.38\n",
            "\u001b[1;36m[aac @ 0x55eb96a04f00] \u001b[0mQavg: 705.895\n",
            "Done.\n"
          ],
          "name": "stdout"
        }
      ]
    },
    {
      "cell_type": "markdown",
      "metadata": {
        "id": "ItJ1dcCQCkcq",
        "colab_type": "text"
      },
      "source": [
        "#第六步. 继续训练\n",
        "当你第二次开始训练，或者掉线之后继续训练时并不需要执行上面所有的步骤。只需要下面简单的几个步骤。\n",
        "1. 挂载云盘\n",
        "2. 安装依赖\n",
        "3. 此代码运行时，可以再点你要训练的模式代码运行，运行完此代码就会继续运行你点的代码。"
      ]
    },
    {
      "cell_type": "code",
      "metadata": {
        "id": "ejTNkJGsCniI",
        "colab_type": "code",
        "colab": {}
      },
      "source": [
        "#挂载谷歌云盘\n",
        "#点击链接授权，复制授权码，填入框框，然后回车。\n",
        "\n",
        "from google.colab import drive\n",
        "drive.mount('/content/drive', force_remount=True)\n",
        "\n",
        "# 进入DeepFaceLab_Colab目录运行\n",
        "%cd /content/drive/My Drive/DeepFaceLab/DeepFaceLab_Colab\n",
        "!pip install -r requirements_colab.txt\n",
        "!pip install --upgrade scikit-image\n",
        "\n",
        "#Src头像缓存，提高图片载入速度，请把aligned.zip放在对应的目录下\n",
        "%cd /content/drive/My Drive/DeepFaceLab/workspace/data_src\n",
        "!unzip -o -q aligned.zip\n",
        "print('Src头像解压已完成')\n",
        "#dst头像缓存，提高图片载入速度，请把aligned.zip放在对应的目录下\n",
        "%cd /content/drive/My Drive/DeepFaceLab/workspace/data_dst\n",
        "!unzip -o -q aligned.zip\n",
        "print('dst头像解压已完成')\n",
        "%cd /content/drive/My Drive/DeepFaceLab/DeepFaceLab_Colab"
      ],
      "execution_count": 0,
      "outputs": []
    },
    {
      "cell_type": "markdown",
      "metadata": {
        "id": "fgqAl7JcCsHW",
        "colab_type": "text"
      },
      "source": [
        "# 工具"
      ]
    },
    {
      "cell_type": "markdown",
      "metadata": {
        "id": "cYdzXIg0FBve",
        "colab_type": "text"
      },
      "source": [
        "# 新段落"
      ]
    },
    {
      "cell_type": "markdown",
      "metadata": {
        "id": "P_PoCVy7C32t",
        "colab_type": "text"
      },
      "source": [
        "使用脚本练模型的时候常常会需要上传，解压，压缩，下载等，下面为大家提供一个解压和压缩的脚本。如果需要对其他文件操作，改一下路径，改一下文件名就可以了。"
      ]
    },
    {
      "cell_type": "code",
      "metadata": {
        "id": "BSaIaEUgC6RL",
        "colab_type": "code",
        "colab": {}
      },
      "source": [
        "#Src头像缓存，提高图片载入速度，请把aligned.zip放在对应的目录下\n",
        "%cd /content/drive/My Drive/DeepFaceLab/workspace/data_dst\n",
        "!unzip -o -q aligned.zip\n",
        "print(\"src解压已完成\")"
      ],
      "execution_count": 0,
      "outputs": []
    },
    {
      "cell_type": "code",
      "metadata": {
        "id": "ruRXNagOC6yx",
        "colab_type": "code",
        "colab": {}
      },
      "source": [
        "# 压缩头像包 ，把压缩包保存在data_src或data_dst目录下,src或dst下面代码自己手动改\n",
        "%cd /content/drive/My Drive/DeepFaceLab/workspace/data_dst\n",
        "!zip -r aligned.zip  aligned\n",
        "print(\"src压缩已完成\")"
      ],
      "execution_count": 0,
      "outputs": []
    }
  ]
}